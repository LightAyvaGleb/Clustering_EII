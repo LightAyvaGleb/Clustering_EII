{
 "cells": [
  {
   "cell_type": "code",
   "execution_count": 8,
   "metadata": {
    "colab": {
     "base_uri": "https://localhost:8080/"
    },
    "id": "4iduHLFx9oJU",
    "outputId": "9788ea5e-5e98-48f8-f69a-ecc751f7048d"
   },
   "outputs": [],
   "source": [
    "import numpy as np\n",
    "import matplotlib.pyplot as plt\n",
    "from sklearn.decomposition import PCA\n"
   ]
  },
  {
   "cell_type": "markdown",
   "metadata": {
    "id": "MNFwiHAhL-ie"
   },
   "source": [
    "Size of images 224x224"
   ]
  },
  {
   "cell_type": "markdown",
   "metadata": {},
   "source": [
    "Additional data"
   ]
  },
  {
   "cell_type": "code",
   "execution_count": 9,
   "metadata": {
    "colab": {
     "base_uri": "https://localhost:8080/"
    },
    "id": "ZVy0UZw2-zGf",
    "outputId": "ea1eea3a-d358-4b76-8fcb-a7f4d8732703"
   },
   "outputs": [
    {
     "name": "stdout",
     "output_type": "stream",
     "text": [
      "(925,)\n",
      "(925,)\n",
      "(925, 224, 224, 3)\n",
      "(925, 224, 224, 3)\n"
     ]
    }
   ],
   "source": [
    "data_date_1 = np.load('Keograms/data_date.npy')\n",
    "year_arr_1 = np.load('Keograms/year_arr.npy')\n",
    "dataset_old_1 = np.load('Keograms/dataset_old.npy')\n",
    "dataset_old_lat_1 = np.load('Keograms/dataset_old_lat.npy')\n",
    "non_zero_indices = np.load('Keograms/indices_zero.npy')\n",
    "non_zero_indices_lat = np.load('Keograms/indices_zero_lat.npy')\n",
    "\n",
    "print(data_date_1.shape)\n",
    "print(year_arr_1.shape)\n",
    "print(dataset_old_1.shape)\n",
    "print(dataset_old_lat_1.shape)"
   ]
  },
  {
   "cell_type": "markdown",
   "metadata": {},
   "source": [
    "Download the main data"
   ]
  },
  {
   "cell_type": "code",
   "execution_count": 10,
   "metadata": {
    "id": "KqH8aerem7r_"
   },
   "outputs": [],
   "source": [
    "my_list = np.load('Keograms/my_list_new.npy')\n",
    "my_list_lat = np.load('Keograms/my_list_lat_new.npy')\n",
    "data_date = np.load('Keograms/new_dates.npy')\n",
    "year_arr = np.load('Keograms/new_years.npy', allow_pickle=True)\n",
    "dataset_old = np.load('Keograms/dataset_old_2.npy')\n",
    "dataset_old_lat = np.load('Keograms/dataset_old_lat_2.npy')"
   ]
  },
  {
   "cell_type": "code",
   "execution_count": 11,
   "metadata": {
    "colab": {
     "base_uri": "https://localhost:8080/"
    },
    "id": "ePg4bzMpq0vB",
    "outputId": "9de4f916-fc98-4925-a5d5-e96c0d04a679"
   },
   "outputs": [
    {
     "name": "stdout",
     "output_type": "stream",
     "text": [
      "(425, 224, 224, 3)\n"
     ]
    }
   ],
   "source": [
    "print(dataset_old.shape)"
   ]
  },
  {
   "cell_type": "markdown",
   "metadata": {},
   "source": [
    "Extraction from longitudinal keogram"
   ]
  },
  {
   "cell_type": "code",
   "execution_count": 12,
   "metadata": {
    "id": "fPeLEzZB-2El"
   },
   "outputs": [],
   "source": [
    "from PIL import Image\n",
    "import cv2\n",
    "from scipy.spatial.distance import cdist\n",
    "\n",
    "\n",
    "dataset_average = []\n",
    "dataset_std_x = []\n",
    "dataset_std_y = []\n",
    "dataset_num = []\n",
    "for arr in dataset_old:\n",
    "\n",
    "  image_pil = Image.fromarray(arr)\n",
    "\n",
    "  new_size = (128, 128)  \n",
    "  im_crop = image_pil.resize(new_size)\n",
    "  grays = im_crop.convert('L')\n",
    "  grays = np.asarray(grays)\n",
    "  grays = cv2.bitwise_not(grays)\n",
    "\n",
    "\n",
    "  average_value = np.mean(grays)\n",
    "\n",
    "  black_points = np.argwhere(grays > 5)\n",
    "  #print(black_points.shape[0])\n",
    "  distances = cdist(black_points, black_points)\n",
    "\n",
    "  # remove diag elements\n",
    "  distances = distances[np.nonzero(distances)]\n",
    "\n",
    "  mean_distance = np.mean(distances)\n",
    "\n",
    "\n",
    "  cov_matrix = np.cov(black_points, rowvar=False)\n",
    "  std_dev_y = cov_matrix[0, 0]\n",
    "  std_dev_x = cov_matrix[1, 1]\n",
    "\n",
    "  dataset_average.append(average_value)\n",
    "  dataset_std_x.append(std_dev_x)\n",
    "  dataset_std_y.append(std_dev_y)\n",
    "  dataset_num.append(black_points.shape[0])\n",
    "\n",
    "\n",
    "dataset_average = np.asarray(dataset_average)\n",
    "dataset_std_x = np.asarray(dataset_std_x)\n",
    "dataset_std_y = np.asarray(dataset_std_y)\n",
    "dataset_num = np.asarray(dataset_num)"
   ]
  },
  {
   "cell_type": "markdown",
   "metadata": {},
   "source": [
    "Extraction from latitudinal keogram"
   ]
  },
  {
   "cell_type": "code",
   "execution_count": 13,
   "metadata": {
    "id": "_BXPHRFuHElY"
   },
   "outputs": [],
   "source": [
    "dataset_lat_average = []\n",
    "dataset_lat_std_x = []\n",
    "dataset_lat_std_y = []\n",
    "dataset_lat_num = []\n",
    "for arr in dataset_old_lat:\n",
    "\n",
    "  image_pil = Image.fromarray(arr)\n",
    "\n",
    "  new_size = (128, 128) \n",
    "  im_crop = image_pil.resize(new_size)\n",
    "  grays = im_crop.convert('L')\n",
    "  grays = np.asarray(grays)\n",
    "  grays = cv2.bitwise_not(grays)\n",
    "  #grays[non_zero_indices_lat] = 0\n",
    "\n",
    "\n",
    "  average_value = np.mean(grays)\n",
    "\n",
    "  black_points = np.argwhere(grays > 5)\n",
    "  #print(black_points.shape[0])\n",
    "  distances = cdist(black_points, black_points)\n",
    "\n",
    "  # remove diag elements\n",
    "  distances = distances[np.nonzero(distances)]\n",
    "\n",
    "  mean_distance = np.mean(distances)\n",
    "\n",
    "\n",
    "  cov_matrix = np.cov(black_points, rowvar=False)\n",
    "  std_dev_y = cov_matrix[0, 0]\n",
    "  std_dev_x = cov_matrix[1, 1]\n",
    "\n",
    "  dataset_lat_average.append(average_value)\n",
    "  dataset_lat_std_x.append(std_dev_x)\n",
    "  dataset_lat_std_y.append(std_dev_y)\n",
    "  dataset_lat_num.append(black_points.shape[0])\n",
    "\n",
    "\n",
    "dataset_lat_average = np.asarray(dataset_lat_average)\n",
    "dataset_lat_std_x = np.asarray(dataset_lat_std_x)\n",
    "dataset_lat_std_y = np.asarray(dataset_lat_std_y)\n",
    "dataset_lat_num = np.asarray(dataset_lat_num)"
   ]
  },
  {
   "cell_type": "markdown",
   "metadata": {
    "id": "dSmrVUJsMM3l"
   },
   "source": [
    "Clustering algorithm"
   ]
  },
  {
   "cell_type": "code",
   "execution_count": 16,
   "metadata": {},
   "outputs": [
    {
     "name": "stdout",
     "output_type": "stream",
     "text": [
      "[0.5035081006257945, 0.5301867324567844, 0.48463893025657867, 0.44646587603662014, 0.43757750337806395, 0.4249657328334276, 0.41154978879535115, 0.42092114889965826, 0.4235332550846329, 0.4260449850261121, 0.42348018312478336]\n",
      "[0.7015211389515885, 0.6113182178722562, 0.6574825678638072, 0.7262152022988507, 0.6856631498943236, 0.7213252016309337, 0.6965633778932108, 0.6717618298845475, 0.6883610879317015, 0.7048920209285329, 0.7050578779952152]\n",
      "[0.5025050871464907, 0.5242360994913533, 0.47272555889022294, 0.4449247423474447, 0.43689989210147107, 0.4235430811784196, 0.421239976713063, 0.4201807172916274, 0.3993408894440498, 0.4106688931491754, 0.4109786376335894]\n",
      "[0.6824797491074751, 0.6027500565147222, 0.6432717966736743, 0.6577843867358317, 0.6597045717011976, 0.7010455097618326, 0.6795353049278534, 0.6381388349117414, 0.6740099705006558, 0.7024904974793569, 0.7151828035360054]\n"
     ]
    }
   ],
   "source": [
    "from sklearn.mixture import GaussianMixture\n",
    "\n",
    "from scipy.spatial.distance import cdist\n",
    "\n",
    "from sklearn.cluster import KMeans\n",
    "from sklearn.preprocessing import MinMaxScaler\n",
    "from sklearn.preprocessing import StandardScaler\n",
    "\n",
    "from sklearn.metrics import silhouette_score, davies_bouldin_score\n",
    "\n",
    "from scipy.stats import skew\n",
    "\n",
    "\n",
    "\n",
    "\n",
    "scaler = MinMaxScaler()\n",
    "#scaler = StandardScaler()\n",
    "\n",
    "#square_array = [64, 128, 256, 512]\n",
    "square_array = [512]\n",
    "\n",
    "\n",
    "\n",
    "\n",
    "dataset_average = dataset_average.reshape(-1, 1)\n",
    "dataset_lat_average = dataset_lat_average.reshape(-1, 1)\n",
    "dataset_std_x = np.sqrt(dataset_std_x.reshape(-1, 1))\n",
    "dataset_std_y = np.sqrt(dataset_std_y.reshape(-1, 1))\n",
    "dataset_lat_std_x = np.sqrt(dataset_lat_std_x.reshape(-1, 1))\n",
    "dataset_lat_std_y = np.sqrt(dataset_lat_std_y.reshape(-1, 1))\n",
    "dataset_num = dataset_num.reshape(-1, 1)\n",
    "dataset_lat_num = dataset_num.reshape(-1, 1)\n",
    "\n",
    "\n",
    "\n",
    "\n",
    "\n",
    "#skew_matrix_gen = (skew_matrix + skew_matrix_lat)/2\n",
    "#avr_matrix_gen = avr_matrix_gen.reshape(925, 1)\n",
    "#std_matrix_gen = std_matrix_gen.reshape(925, 1)\n",
    "\n",
    "#avr_matrix_gen = scaler.fit_transform(avr_matrix_gen)\n",
    "#std_matrix_gen = scaler.fit_transform(std_matrix_gen)\n",
    "#skew_matrix_gen = scaler.fit_transform(skew_matrix_gen)\n",
    "\n",
    "#avr_matrix_gen = np.concatenate((avr_matrix_gen, std_matrix_gen), axis = 1)\n",
    "\n",
    "\n",
    "\n",
    "#avr_matrix_gen = dataset_average.copy()\n",
    "avr_matrix_lat_lon = (dataset_average+dataset_lat_average)/2\n",
    "#std_matrix_gen = (dataset_standard + dataset_lat_standard)/2\n",
    "\n",
    "dataset_std_y_gen = np.sqrt(dataset_lat_std_y**2 + dataset_std_y**2)\n",
    "dataset_std_x_gen = np.sqrt(dataset_lat_std_x**2 + dataset_std_x**2)\n",
    "dataset_std_gen = np.sqrt(dataset_std_x_gen**2 + dataset_std_y_gen**2)\n",
    "#dataset_lat_std = np.sqrt(dataset_std_lat_x**2 + dataset_std_lat_y**2)\n",
    "\n",
    "#std_matrix_gen = dataset_std.copy()\n",
    "coeff_1 = dataset_average*dataset_num/dataset_std_x\n",
    "coeff_2 = dataset_average*dataset_num/dataset_std_y\n",
    "coeff_3 = dataset_lat_average*dataset_lat_num/dataset_lat_std_x\n",
    "coeff_4 = dataset_lat_average*dataset_lat_num/dataset_lat_std_y\n",
    "\n",
    "avr_matrix_gen = np.concatenate((avr_matrix_lat_lon, dataset_std_gen), axis = 1)\n",
    "#avr_matrix_gen = np.concatenate((dataset_average, dataset_lat_average, dataset_std_x, dataset_lat_std_x, dataset_std_y, dataset_lat_std_y), axis = 1)\n",
    "#avr_matrix_gen = np.concatenate((coeff_1, coeff_2, coeff_3, coeff_4), axis = 1)\n",
    "\n",
    "avr_matrix_gen = np.where(np.isinf(avr_matrix_gen), 0, avr_matrix_gen)\n",
    "avr_matrix_gen = np.nan_to_num(avr_matrix_gen, nan=0)\n",
    "\n",
    "#avr_matrix_gen = np.concatenate((avr_matrix_gen, dataset_std, dataset_lat_std), axis = 1)\n",
    "#avr_matrix_gen = avr_matrix_gen.copy()\n",
    "\n",
    "avr_matrix_gen = scaler.fit_transform(avr_matrix_gen)\n",
    "\n",
    "\n",
    "\n",
    "accuracy_kmeans_ecti = []\n",
    "accuracy_bdv_kmeans_ecti = []\n",
    "\n",
    "\n",
    "accuracy_gmm_ecti = []\n",
    "accuracy_bdv_gmm_ecti = []\n",
    "\n",
    "\n",
    "for n_cluster in [2, 3, 4, 5, 6, 7, 8, 9, 10, 11, 12]:\n",
    "\n",
    "  y_t = avr_matrix_gen.copy()\n",
    "\n",
    "  kmeans = KMeans(n_cluster, max_iter=10000, n_init=20, tol=1e-8, random_state = 42)\n",
    "  gmm = GaussianMixture(n_components=n_cluster, covariance_type = 'tied', tol=1e-3,  n_init = 40, random_state = 42)\n",
    "\n",
    "\n",
    "  kmeans.fit(y_t)\n",
    "  gmm.fit(y_t)\n",
    "\n",
    "\n",
    "  y_pred_kmeans_ecti = kmeans.predict(y_t)\n",
    "  y_pred_gmm_ecti = gmm.predict(y_t)\n",
    "\n",
    "\n",
    "  this_set = y_t.copy()\n",
    "  silhouette_avg = silhouette_score(this_set, y_pred_kmeans_ecti)\n",
    "  bouldin_avg = davies_bouldin_score(this_set, y_pred_kmeans_ecti)\n",
    "\n",
    "  silhouette_avg_mm = silhouette_score(this_set, y_pred_gmm_ecti)\n",
    "  bouldin_avg_mm = davies_bouldin_score(this_set, y_pred_gmm_ecti)\n",
    "\n",
    "  accuracy_kmeans_ecti.append(silhouette_avg)\n",
    "  accuracy_bdv_kmeans_ecti.append(bouldin_avg)\n",
    "\n",
    "  accuracy_gmm_ecti.append(silhouette_avg_mm)\n",
    "  accuracy_bdv_gmm_ecti.append(bouldin_avg_mm)\n",
    "\n",
    "\n",
    "\n",
    "print(accuracy_kmeans_ecti)\n",
    "print(accuracy_bdv_kmeans_ecti)\n",
    "\n",
    "print(accuracy_gmm_ecti)\n",
    "print(accuracy_bdv_gmm_ecti)"
   ]
  },
  {
   "cell_type": "markdown",
   "metadata": {},
   "source": [
    "Silhouette and Davies-Bouldin score"
   ]
  },
  {
   "cell_type": "code",
   "execution_count": 18,
   "metadata": {},
   "outputs": [
    {
     "data": {
      "text/plain": [
       "(2.0, 8.0, 0.55, 0.84)"
      ]
     },
     "execution_count": 18,
     "metadata": {},
     "output_type": "execute_result"
    },
    {
     "data": {
      "image/png": "[encoded data removed]",
      "text/plain": [
       "<Figure size 432x432 with 1 Axes>"
      ]
     },
     "metadata": {
      "needs_background": "light"
     },
     "output_type": "display_data"
    },
    {
     "data": {
      "image/png": "[encoded data removed]",
      "text/plain": [
       "<Figure size 432x432 with 1 Axes>"
      ]
     },
     "metadata": {
      "needs_background": "light"
     },
     "output_type": "display_data"
    }
   ],
   "source": [
    "plt.figure(figsize = (6, 6))\n",
    "\n",
    "x_axis = np.asarray([2, 3, 4, 5, 6, 7, 8, 9, 10, 11, 12])\n",
    "\n",
    "\n",
    "\n",
    "plt.plot(x_axis, accuracy_kmeans_ecti)\n",
    "plt.plot(x_axis, accuracy_gmm_ecti)\n",
    "  #plt.plot(x_axis, accuracy_dim)\n",
    "#plt.plot(x_axis, accuracy_gmm_ecti, linestyle = '--')\n",
    "plt.grid()\n",
    "plt.title('Silhouette score')\n",
    "plt.legend(['k-means (stat)', 'GMM (stat)'])\n",
    "plt.ylabel('Score')\n",
    "plt.xlabel('Number of clusters')\n",
    "plt.axis([2, 8, 0.42, 0.55])\n",
    "\n",
    "plt.figure(figsize = (6, 6))\n",
    "\n",
    "x_axis = np.asarray([2, 3, 4, 5, 6, 7, 8, 9, 10, 11, 12])\n",
    "\n",
    "\n",
    "\n",
    "plt.plot(x_axis, accuracy_bdv_kmeans_ecti)\n",
    "plt.plot(x_axis, accuracy_bdv_gmm_ecti)\n",
    "  #plt.plot(x_axis, accuracy_dim)\n",
    "#plt.plot(x_axis, accuracy_gmm_ecti, linestyle = '--')\n",
    "plt.grid()\n",
    "plt.title('Davies-Bouldin index')\n",
    "plt.legend(['k-means (stat)', 'GMM (stat)'])\n",
    "plt.ylabel('Score')\n",
    "plt.xlabel('Number of clusters')\n",
    "plt.axis([2, 8, 0.55, 0.84])"
   ]
  }
 ],
 "metadata": {
  "colab": {
   "machine_shape": "hm",
   "provenance": []
  },
  "kernelspec": {
   "display_name": "Python 3 (ipykernel)",
   "language": "python",
   "name": "python3"
  },
  "language_info": {
   "codemirror_mode": {
    "name": "ipython",
    "version": 3
   },
   "file_extension": ".py",
   "mimetype": "text/x-python",
   "name": "python",
   "nbconvert_exporter": "python",
   "pygments_lexer": "ipython3",
   "version": "3.9.7"
  }
 },
 "nbformat": 4,
 "nbformat_minor": 1
}
